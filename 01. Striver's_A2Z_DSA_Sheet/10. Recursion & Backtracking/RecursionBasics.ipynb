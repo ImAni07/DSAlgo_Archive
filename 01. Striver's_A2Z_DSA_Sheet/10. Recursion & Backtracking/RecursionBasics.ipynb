{
 "cells": [
  {
   "cell_type": "markdown",
   "id": "0cf8b6c3",
   "metadata": {},
   "source": [
    "# Introduction to Recursion\n",
    "\n",
    "This notebook explains the fundamental concepts of ***recursion***.\n",
    "\n",
    "**Article:** [Take U Forward](https://takeuforward.org/recursion/introduction-to-recursion-understand-recursion-by-printing-something-n-times/)"
   ]
  },
  {
   "cell_type": "markdown",
   "id": "9cf97af0",
   "metadata": {},
   "source": [
    "## Understanding Recursion\n",
    "\n",
    "**Recursion** is defined as a programming technique where a function calls itself, either directly or indirectly, to solve a problem. The function achieves this by **breaking the problem down into smaller subproblems** until a **base case** is reached. This base case is essential as it stops further calls.\n",
    "\n",
    "Let’s understand recursion with the help of an illustration:\n",
    "\n",
    "![Recursion Illustration](https://static.takeuforward.org/content/-E7LtHlNt)\n",
    "\n",
    "As we can see in the above image, a function is calling the same function inside its body. Since there is no condition to stop the recursive calls, the calls will run indefinitely until the stack runs out of memory (stack overflow )."
   ]
  },
  {
   "cell_type": "markdown",
   "id": "210c47ad",
   "metadata": {},
   "source": [
    "## Base Condition\n",
    "\n",
    "The **Base Condition** is the specific condition written within the recursive function that allows it to terminate and prevents it from running infinitely. Once the base condition is encountered, the function terminates and returns control back to its parent function.\n",
    "\n",
    "To get a better understanding of how the base condition is an integral part of recursive functions, let us see an example below:\n",
    "\n",
    "![Reaching the Base Case](https://static.takeuforward.org/content/-7Chq48zB)\n",
    "\n",
    "![Returning Function Calls](https://static.takeuforward.org/content/-NlU_8A5d)\n",
    "\n",
    "According to the images, the function will decrement and will keep calling itself until it reaches 1. Once it reaches 1, it starts returning values one by one in recursion stack."
   ]
  },
  {
   "cell_type": "markdown",
   "id": "0bd7ec7a",
   "metadata": {},
   "source": [
    "## What is Stack Overflow in Recursion?\n",
    "\n",
    "If a recursive function lacks a base condition, it calls itself indefinitely, which leads to a **Stack Overflow**. A Stack Overflow occurs when the function calls, stored in a **recursion stack**, exceed the available memory limit, causing the program to terminate with a Segmentation Fault error.\n",
    "\n",
    "![Stack Overflow in Recursion](https://static.takeuforward.org/content/-UVGliFfq)"
   ]
  },
  {
   "cell_type": "markdown",
   "id": "d2519d2b",
   "metadata": {},
   "source": [
    "## Recursive Tree\n",
    "\n",
    "A recursive tree is basically a representative form of recursion which depicts how functions are called and returned as a series of events happening consecutively. It is a pictorial description of the process of recursion as illustrated below:\n",
    "\n",
    "![Recursive Tree](https://static.takeuforward.org/content/-aE3uK_8o)\n",
    "\n",
    "When a recursive call gets completed, the control returns back to its parent function which is then further executed until the last function waiting in the recursive stack returns."
   ]
  },
  {
   "cell_type": "markdown",
   "id": "c01997f2",
   "metadata": {},
   "source": [
    "## Pros and Cons of Recursion\n",
    "\n",
    "### Advantages:\n",
    "\n",
    "*   **Simplifies Code:** Complex problems can be solved in fewer lines of code compared to iterative solutions.\n",
    "*   **Natural Representation:** Problems that are recursive in nature (like tree traversals, factorial, Fibonacci, etc.) are easier to express.\n",
    "*   **Reduces Code Complexity:** Avoids writing nested loops, making the logic more readable and elegant.\n",
    "*   **Useful in Divide-and-Conquer Algorithms:** Essential for algorithms like QuickSort, MergeSort, Binary Search, and Dynamic Programming.\n",
    "\n",
    "### Disadvantages:\n",
    "\n",
    "*   **High Memory Usage:** Each recursive call adds a new layer to the function call stack, which may lead to memory overhead.\n",
    "*   **Risk of Stack Overflow:** Without proper base cases, infinite recursion can occur and crash the program.\n",
    "*   **Slower Execution:** Function calls and returns add extra overhead compared to simple loops.\n",
    "*   **Harder to Debug:** Tracing recursive calls can be confusing, especially in deep recursion."
   ]
  },
  {
   "cell_type": "markdown",
   "id": "bfb9eed6",
   "metadata": {},
   "source": [
    "## Points to Remember\n",
    "\n",
    "The logic for a basic recursive function designed to stop calling itself:\n",
    "\n",
    "1.  The function calls itself while **decrementing** a value.\n",
    "2.  The function continues recursive calls until the value **reaches 1** (the implied base condition).\n",
    "3.  Once the value reaches 1, the base condition is met, and the function **starts returning values** one by one in the recursion stack, completing the calls."
   ]
  },
  {
   "cell_type": "markdown",
   "id": "ad32487c",
   "metadata": {},
   "source": [
    "## Coding Questions to Learn Basic Recursion:\n",
    "\n",
    "**DSA Sheet:** [Striver's A2Z DSA Sheet](https://takeuforward.org/strivers-a2z-dsa-course/strivers-a2z-dsa-course-sheet-2)\n",
    "\n",
    "1. Print name N times using recursion\n",
    "2. Print 1 to N using recursion\n",
    "3. Print N to 1 using recursion\n",
    "4. Sum of first N numbers\n",
    "5. Factorial of N numbers\n",
    "6. Reverse an array\n",
    "7. Check if a string is palindrome or not\n",
    "8. Fibonacci Number"
   ]
  }
 ],
 "metadata": {
  "kernelspec": {
   "display_name": "base",
   "language": "python",
   "name": "python3"
  },
  "language_info": {
   "name": "python",
   "version": "3.12.7"
  }
 },
 "nbformat": 4,
 "nbformat_minor": 5
}
